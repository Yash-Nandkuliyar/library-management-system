{
 "cells": [
  {
   "cell_type": "code",
   "execution_count": null,
   "id": "30abff89-95ef-4faf-a2d1-5e9f9d1ddb89",
   "metadata": {},
   "outputs": [],
   "source": [
    "import pandas as pd\n",
    "\n",
    "# Taking NFA input from User \n",
    "\n",
    "nfa = {}                                 \n",
    "n = int(input(\"No. of states : \"))            #Enter total no. of states\n",
    "t = int(input(\"No. of transitions : \"))       #Enter total no. of transitions/paths eg: a,b so input 2 for a,b,c input 3\n",
    "for i in range(n):  \n",
    "    state = input(\"state name : \")            #Enter state name eg: A, B, C, q1, q2 ..etc\n",
    "    nfa[state] = {}                           #Creating a nested dictionary\n",
    "    for j in range(t):\n",
    "        path = input(\"path : \")               #Enter path eg : a or b in {a,b} 0 or 1 in {0,1}\n",
    "        print(\"Enter end state from state {} travelling through path {} : \".format(state,path))\n",
    "        reaching_state = [x for x in input().split()]  #Enter all the end states that \n",
    "        nfa[state][path] = reaching_state     #Assigning the end states to the paths in dictionary\n",
    "\n",
    "print(\"\\nNFA :- \\n\")\n",
    "print(nfa)                                    #Printing NFA\n",
    "print(\"\\nPrinting NFA table :- \")\n",
    "nfa_table = pd.DataFrame(nfa)\n",
    "print(nfa_table.transpose())\n"
   ]
  }
 ],
 "metadata": {
  "kernelspec": {
   "display_name": "Python 3 (ipykernel)",
   "language": "python",
   "name": "python3"
  },
  "language_info": {
   "codemirror_mode": {
    "name": "ipython",
    "version": 3
   },
   "file_extension": ".py",
   "mimetype": "text/x-python",
   "name": "python",
   "nbconvert_exporter": "python",
   "pygments_lexer": "ipython3",
   "version": "3.10.9"
  }
 },
 "nbformat": 4,
 "nbformat_minor": 5
}
